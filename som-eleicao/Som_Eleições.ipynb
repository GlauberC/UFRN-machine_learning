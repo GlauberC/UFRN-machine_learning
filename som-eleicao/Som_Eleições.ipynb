{
  "nbformat": 4,
  "nbformat_minor": 0,
  "metadata": {
    "colab": {
      "name": "Som - Eleições",
      "version": "0.3.2",
      "provenance": [],
      "collapsed_sections": []
    },
    "kernelspec": {
      "name": "python3",
      "display_name": "Python 3"
    }
  },
  "cells": [
    {
      "metadata": {
        "id": "IBg4DNrmjIYq",
        "colab_type": "code",
        "colab": {}
      },
      "cell_type": "code",
      "source": [
        "# SOM\n",
        "# from https://www.superdatascience.com/deep-learning/ \n",
        "\n",
        "\n",
        "# Importing the libraries\n",
        "import numpy as np\n",
        "import matplotlib.pyplot as plt\n",
        "import pandas as pd"
      ],
      "execution_count": 0,
      "outputs": []
    },
    {
      "metadata": {
        "id": "00IH3WDBjzru",
        "colab_type": "code",
        "colab": {
          "base_uri": "https://localhost:8080/",
          "height": 34
        },
        "outputId": "5d2c4128-d9f1-4543-d67d-8a21f6f6b0f2"
      },
      "cell_type": "code",
      "source": [
        "# Install MiniSOM\n",
        "# https://github.com/JustGlowing/minisom \n",
        "!pip install minisom"
      ],
      "execution_count": 153,
      "outputs": [
        {
          "output_type": "stream",
          "text": [
            "Requirement already satisfied: minisom in /usr/local/lib/python3.6/dist-packages (2.0.0)\n"
          ],
          "name": "stdout"
        }
      ]
    },
    {
      "metadata": {
        "id": "QgR2cDe_kSLS",
        "colab_type": "code",
        "colab": {
          "base_uri": "https://localhost:8080/",
          "height": 34
        },
        "outputId": "61210924-8264-4dba-b8d0-3f8cdf23e637"
      },
      "cell_type": "code",
      "source": [
        "# Getting Data\n",
        "import os\n",
        "import tarfile\n",
        "from six.moves import urllib\n",
        "\n",
        "FILE_TO_DOWNLOAD =  \"perfil_politico.csv\"\n",
        "DOWNLOAD_ROOT = \"https://github.com/ect-info/ml/raw/master/\"\n",
        "DATA_PATH = \"dados/\"\n",
        "DATA_URL = DOWNLOAD_ROOT + DATA_PATH + FILE_TO_DOWNLOAD\n",
        "\n",
        "def fetch_data(data_url=DATA_URL, data_path=DATA_PATH, file_to_download=FILE_TO_DOWNLOAD):\n",
        "  if not os.path.isdir(data_path):\n",
        "    os.makedirs(data_path)\n",
        "  urllib.request.urlretrieve(data_url, data_path+file_to_download)\n",
        "  \n",
        "  \n",
        "fetch_data()\n",
        "\n",
        "# observando se o diretório datasets foi criado com sucesso \n",
        "!ls dados"
      ],
      "execution_count": 154,
      "outputs": [
        {
          "output_type": "stream",
          "text": [
            "Credit_Card_Applications.csv  perfil_politico.csv\n"
          ],
          "name": "stdout"
        }
      ]
    },
    {
      "metadata": {
        "id": "Mnq2XRGwkZgr",
        "colab_type": "code",
        "colab": {
          "base_uri": "https://localhost:8080/",
          "height": 343
        },
        "outputId": "a96c8f23-8ad4-4242-81f8-5ca8de62fdff"
      },
      "cell_type": "code",
      "source": [
        "# Importing the dataset\n",
        "dataset = pd.read_csv(DATA_PATH+FILE_TO_DOWNLOAD)\n",
        "\n",
        "\n",
        "dataset.head(  )\n",
        "\n",
        "\n"
      ],
      "execution_count": 155,
      "outputs": [
        {
          "output_type": "execute_result",
          "data": {
            "text/html": [
              "<div>\n",
              "<style scoped>\n",
              "    .dataframe tbody tr th:only-of-type {\n",
              "        vertical-align: middle;\n",
              "    }\n",
              "\n",
              "    .dataframe tbody tr th {\n",
              "        vertical-align: top;\n",
              "    }\n",
              "\n",
              "    .dataframe thead th {\n",
              "        text-align: right;\n",
              "    }\n",
              "</style>\n",
              "<table border=\"1\" class=\"dataframe\">\n",
              "  <thead>\n",
              "    <tr style=\"text-align: right;\">\n",
              "      <th></th>\n",
              "      <th>Apoia privatizações das empresas brasileiras?</th>\n",
              "      <th>Lula deve ser solto</th>\n",
              "      <th>O impeachment de Dilma foi um golpe?</th>\n",
              "      <th>Legalização do aborto</th>\n",
              "      <th>Políticas de ações afirmativas (cotas)</th>\n",
              "      <th>A favor da reforma agrária</th>\n",
              "      <th>Todos os brasileiro devem alcançar suas conquistas através da meritocracia</th>\n",
              "      <th>Apoia a legalização do porte de armas</th>\n",
              "      <th>Apoia a redução da maioridade penal</th>\n",
              "      <th>Apoia a laicidade do Estado</th>\n",
              "      <th>Apoia a diminuição do Estado</th>\n",
              "      <th>As Universidades são um gasto público?</th>\n",
              "      <th>A favor do foro privilegiado?</th>\n",
              "      <th>A favor de uma reforma política?</th>\n",
              "      <th>A favor de uma diminuição de regalias para os políticos?</th>\n",
              "    </tr>\n",
              "  </thead>\n",
              "  <tbody>\n",
              "    <tr>\n",
              "      <th>0</th>\n",
              "      <td>1.0</td>\n",
              "      <td>0.0</td>\n",
              "      <td>0.0</td>\n",
              "      <td>0.5</td>\n",
              "      <td>1.0</td>\n",
              "      <td>1.0</td>\n",
              "      <td>0.5</td>\n",
              "      <td>0.5</td>\n",
              "      <td>1.0</td>\n",
              "      <td>1.0</td>\n",
              "      <td>1.0</td>\n",
              "      <td>0</td>\n",
              "      <td>0.0</td>\n",
              "      <td>1</td>\n",
              "      <td>1</td>\n",
              "    </tr>\n",
              "    <tr>\n",
              "      <th>1</th>\n",
              "      <td>0.5</td>\n",
              "      <td>1.0</td>\n",
              "      <td>1.0</td>\n",
              "      <td>0.5</td>\n",
              "      <td>1.0</td>\n",
              "      <td>0.5</td>\n",
              "      <td>1.0</td>\n",
              "      <td>0.0</td>\n",
              "      <td>1.0</td>\n",
              "      <td>1.0</td>\n",
              "      <td>0.5</td>\n",
              "      <td>0</td>\n",
              "      <td>0.0</td>\n",
              "      <td>1</td>\n",
              "      <td>1</td>\n",
              "    </tr>\n",
              "    <tr>\n",
              "      <th>2</th>\n",
              "      <td>1.0</td>\n",
              "      <td>0.0</td>\n",
              "      <td>0.0</td>\n",
              "      <td>1.0</td>\n",
              "      <td>0.5</td>\n",
              "      <td>0.5</td>\n",
              "      <td>1.0</td>\n",
              "      <td>1.0</td>\n",
              "      <td>1.0</td>\n",
              "      <td>1.0</td>\n",
              "      <td>1.0</td>\n",
              "      <td>0</td>\n",
              "      <td>0.0</td>\n",
              "      <td>0</td>\n",
              "      <td>1</td>\n",
              "    </tr>\n",
              "    <tr>\n",
              "      <th>3</th>\n",
              "      <td>1.0</td>\n",
              "      <td>0.0</td>\n",
              "      <td>1.0</td>\n",
              "      <td>0.0</td>\n",
              "      <td>1.0</td>\n",
              "      <td>1.0</td>\n",
              "      <td>1.0</td>\n",
              "      <td>0.0</td>\n",
              "      <td>0.0</td>\n",
              "      <td>1.0</td>\n",
              "      <td>1.0</td>\n",
              "      <td>0</td>\n",
              "      <td>1.0</td>\n",
              "      <td>1</td>\n",
              "      <td>1</td>\n",
              "    </tr>\n",
              "    <tr>\n",
              "      <th>4</th>\n",
              "      <td>0.0</td>\n",
              "      <td>0.0</td>\n",
              "      <td>1.0</td>\n",
              "      <td>0.0</td>\n",
              "      <td>0.0</td>\n",
              "      <td>0.0</td>\n",
              "      <td>1.0</td>\n",
              "      <td>1.0</td>\n",
              "      <td>1.0</td>\n",
              "      <td>1.0</td>\n",
              "      <td>0.0</td>\n",
              "      <td>0</td>\n",
              "      <td>0.0</td>\n",
              "      <td>1</td>\n",
              "      <td>1</td>\n",
              "    </tr>\n",
              "  </tbody>\n",
              "</table>\n",
              "</div>"
            ],
            "text/plain": [
              "   Apoia privatizações das empresas brasileiras?  Lula deve ser solto  \\\n",
              "0                                            1.0                  0.0   \n",
              "1                                            0.5                  1.0   \n",
              "2                                            1.0                  0.0   \n",
              "3                                            1.0                  0.0   \n",
              "4                                            0.0                  0.0   \n",
              "\n",
              "   O impeachment de Dilma foi um golpe?  Legalização do aborto  \\\n",
              "0                                   0.0                    0.5   \n",
              "1                                   1.0                    0.5   \n",
              "2                                   0.0                    1.0   \n",
              "3                                   1.0                    0.0   \n",
              "4                                   1.0                    0.0   \n",
              "\n",
              "   Políticas de ações afirmativas (cotas)  A favor da reforma agrária  \\\n",
              "0                                     1.0                         1.0   \n",
              "1                                     1.0                         0.5   \n",
              "2                                     0.5                         0.5   \n",
              "3                                     1.0                         1.0   \n",
              "4                                     0.0                         0.0   \n",
              "\n",
              "   Todos os brasileiro devem alcançar suas conquistas através da meritocracia  \\\n",
              "0                                                0.5                            \n",
              "1                                                1.0                            \n",
              "2                                                1.0                            \n",
              "3                                                1.0                            \n",
              "4                                                1.0                            \n",
              "\n",
              "   Apoia a legalização do porte de armas  Apoia a redução da maioridade penal  \\\n",
              "0                                    0.5                                  1.0   \n",
              "1                                    0.0                                  1.0   \n",
              "2                                    1.0                                  1.0   \n",
              "3                                    0.0                                  0.0   \n",
              "4                                    1.0                                  1.0   \n",
              "\n",
              "   Apoia a laicidade do Estado  Apoia a diminuição do Estado  \\\n",
              "0                          1.0                           1.0   \n",
              "1                          1.0                           0.5   \n",
              "2                          1.0                           1.0   \n",
              "3                          1.0                           1.0   \n",
              "4                          1.0                           0.0   \n",
              "\n",
              "   As Universidades são um gasto público?  A favor do foro privilegiado?  \\\n",
              "0                                       0                            0.0   \n",
              "1                                       0                            0.0   \n",
              "2                                       0                            0.0   \n",
              "3                                       0                            1.0   \n",
              "4                                       0                            0.0   \n",
              "\n",
              "   A favor de uma reforma política?  \\\n",
              "0                                 1   \n",
              "1                                 1   \n",
              "2                                 0   \n",
              "3                                 1   \n",
              "4                                 1   \n",
              "\n",
              "   A favor de uma diminuição de regalias para os políticos?  \n",
              "0                                                  1         \n",
              "1                                                  1         \n",
              "2                                                  1         \n",
              "3                                                  1         \n",
              "4                                                  1         "
            ]
          },
          "metadata": {
            "tags": []
          },
          "execution_count": 155
        }
      ]
    },
    {
      "metadata": {
        "id": "4XExRxaKmKPd",
        "colab_type": "code",
        "colab": {}
      },
      "cell_type": "code",
      "source": [
        "# Feature Scaling\n",
        "from sklearn.preprocessing import MinMaxScaler\n",
        "sc = MinMaxScaler(feature_range = (0, 1))\n",
        "X = sc.fit_transform(X)"
      ],
      "execution_count": 0,
      "outputs": []
    },
    {
      "metadata": {
        "id": "HQNpExMKmM8D",
        "colab_type": "code",
        "colab": {}
      },
      "cell_type": "code",
      "source": [
        "# Training the SOM\n",
        "from minisom import MiniSom\n",
        "som = MiniSom(x = 10, y = 10, input_len = 15, sigma = 1.0, learning_rate = 0.5)\n",
        "som.random_weights_init(X)\n",
        "som.train_random(data = X, num_iteration = 150)\n",
        "\n",
        "\n",
        "X = dataset.iloc[:, :].values\n",
        "esquerda = [0,1,1,0.5,1,1,0,0,0,0.5,0,0,0.5,0.5,0.5]\n",
        "bolsominion = [1,0,0,0,0,0,1,1,1,1,1,0.5,1,1,0.5]\n",
        "glauber = [0.5,0,0.5,0.5,0,1,0.5,0,0.5,0,0.5,0,0,1,1]\n",
        "cicero = [0,1,1,1,1,1,0,0.5,1,1,0.5,0,0,1,1]\n",
        "\n",
        "y = [esquerda, bolsominion, glauber, cicero ]\n",
        "\n"
      ],
      "execution_count": 0,
      "outputs": []
    },
    {
      "metadata": {
        "id": "TwBd-HBimQPc",
        "colab_type": "code",
        "colab": {
          "base_uri": "https://localhost:8080/",
          "height": 347
        },
        "outputId": "d8e5d270-7c69-41cc-efd5-8d5008d4be3a"
      },
      "cell_type": "code",
      "source": [
        "# Visualizing the results\n",
        "from pylab import bone, pcolor, colorbar, plot, show\n",
        "\n",
        "# # for i, x in enumerate(X):\n",
        "#     w = som.winner(x)\n",
        "#     plot(w[0] + 0.5,\n",
        "#          w[1] + 0.5,\n",
        "#          markers[y[i]],\n",
        "#          markeredgecolor = colors[y[i]],\n",
        "#          markerfacecolor = 'None',\n",
        "#          markersize = 10,\n",
        "#          markeredgewidth = 2)\n",
        "# show()\n",
        "\n",
        "w_dir = som.winner(bolsominion)\n",
        "w_esq = som.winner(esquerda)\n",
        "w_cic = som.winner(cicero)\n",
        "w_glau = som.winner(glauber)\n",
        "plot(w_dir[0] + 0.5, w_dir[1] +0.5, 'o', markeredgecolor='g', markersize = 10, markeredgewidth = 2)\n",
        "plot(w_esq[0] + 0.5, w_esq[1] +0.5, 'o', markeredgecolor='r', markersize = 10, markeredgewidth = 2)\n",
        "plot(w_cic[0] + 0.5, w_cic[1] +0.5, 's', markeredgecolor='r', markersize = 10, markeredgewidth = 2)\n",
        "plot(w_glau[0] + 0.5, w_glau[1] +0.5, 's', markeredgecolor='g', markersize = 10, markeredgewidth = 2)\n",
        "\n",
        "show()\n"
      ],
      "execution_count": 158,
      "outputs": [
        {
          "output_type": "display_data",
          "data": {
            "image/png": "[encoded data removed]",
            "text/plain": [
              "<matplotlib.figure.Figure at 0x7f9b74640ba8>"
            ]
          },
          "metadata": {
            "tags": []
          }
        }
      ]
    },
    {
      "metadata": {
        "id": "DBywFkxNmfbO",
        "colab_type": "code",
        "colab": {}
      },
      "cell_type": "code",
      "source": [
        ""
      ],
      "execution_count": 0,
      "outputs": []
    }
  ]
}