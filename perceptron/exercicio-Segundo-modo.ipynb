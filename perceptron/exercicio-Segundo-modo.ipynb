{
  "nbformat": 4,
  "nbformat_minor": 0,
  "metadata": {
    "colab": {
      "name": "Perceptron usando biblioteca python.ipynb",
      "version": "0.3.2",
      "provenance": []
    }
  },
  "cells": [
    {
      "metadata": {
        "id": "gbhDJaavRBYI",
        "colab_type": "code",
        "colab": {
          "base_uri": "https://localhost:8080/",
          "height": 34
        },
        "outputId": "0d4d8cbd-cd67-4f0c-f2c3-4ba820cdd00d"
      },
      "cell_type": "code",
      "source": [
        "from sklearn.naive_bayes import MultinomialNB\n",
        "\n",
        "dado_conhecido0 = [0, 0, 1] # -1\n",
        "dado_conhecido1 = [1, 1, 0] # +1\n",
        "\n",
        "dado_misterioso0 = [1, 1, 1]\n",
        "dado_misterioso1 = [0, 0, 0]\n",
        "dado_misterioso2 = [1, 0, 0]\n",
        "dado_misterioso3 = [0, 1, 1]\n",
        "\n",
        "vetor_misterioso = [dado_misterioso0, dado_misterioso1, dado_misterioso2, dado_misterioso3]\n",
        "vetor_conhecido = [dado_conhecido0, dado_conhecido1]\n",
        "resposta = [-1, 1]\n",
        "\n",
        "modelo = MultinomialNB()\n",
        "modelo.fit(vetor_conhecido, resposta)\n",
        "\n",
        "print(modelo.predict(vetor_misterioso))"
      ],
      "execution_count": 1,
      "outputs": [
        {
          "output_type": "stream",
          "text": [
            "[ 1 -1  1 -1]\n"
          ],
          "name": "stdout"
        }
      ]
    }
  ]
}